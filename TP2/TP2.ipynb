{
 "cells": [
  {
   "cell_type": "markdown",
   "metadata": {},
   "source": [
    "# Exercise 1\n",
    "\n",
    "## Part 1\n",
    "\n",
    "Write a Python program that takes an input grade as an integer and classifies it into different categories using if, elif, and else statements. Use the following grading scale: A: 90-100, B: 80-89, C: 70-79, D: 60 – 69, F: 0-59.\n"
   ]
  },
  {
   "cell_type": "code",
   "execution_count": 1,
   "metadata": {},
   "outputs": [],
   "source": [
    "def sortGrade(grade: float) -> str:\n",
    "    \"\"\"\n",
    "    TODO:\n",
    "    Given a grade, return the letter grade that corresponds to the grade.\n",
    "    The grade is a float between 0 and 100. The letter grade is as follows:\n",
    "    - A: 90-100\n",
    "    - B: 80-89\n",
    "    - C: 70-79\n",
    "    - D: 60-69\n",
    "    - F: 0-59\n",
    "    If the grade is not between 0 and 100, return \"Invalid grade\".\n",
    "\n",
    "    Parameters:\n",
    "    grade (float): The grade to be converted to a letter grade.\n",
    "\n",
    "    Returns:\n",
    "    str: The letter grade that corresponds to the grade.\n",
    "    \"\"\"\n",
    "\n",
    "    if grade < 60.0 and grade >= 0.0:\n",
    "        return 'F'\n",
    "    elif grade < 70.0:\n",
    "        return 'D'\n",
    "    elif grade < 80:\n",
    "        return 'C'\n",
    "    elif grade < 90:\n",
    "        return 'B'\n",
    "    elif grade <= 100:\n",
    "        return 'A'\n",
    "    else:\n",
    "        return 'Invalid grade'"
   ]
  },
  {
   "cell_type": "markdown",
   "metadata": {},
   "source": [
    "## Part 2\n",
    "\n",
    "According to the final examination test score for 10 students from DS class:\n",
    "\n",
    "```\n",
    "student_scores = { \"e20211\": 87.91, \"e20212\": 94.29, \"e20213\": 50.68, \"e20214\": 100.00, \"e20215\": 78.36, \"e20216\": 93.63, \"e20217\": 99.78, \"e20218\": 62.37, \"e20219\": 83.78, \"e202110\": 59.00 }\n",
    "```\n"
   ]
  },
  {
   "cell_type": "code",
   "execution_count": 2,
   "metadata": {},
   "outputs": [],
   "source": [
    "student_scores = {\n",
    "    \"e20211\": 87.91,\n",
    "    \"e20212\": 94.29,\n",
    "    \"e20213\": 50.68,\n",
    "    \"e20214\": 100.00,\n",
    "    \"e20215\": 78.36,\n",
    "    \"e20216\": 93.63,\n",
    "    \"e20217\": 99.78,\n",
    "    \"e20218\": 62.37,\n",
    "    \"e20219\": 83.78,\n",
    "    \"e202110\": 59.00,\n",
    "}"
   ]
  },
  {
   "cell_type": "code",
   "execution_count": 3,
   "metadata": {},
   "outputs": [],
   "source": [
    "import tabulate\n",
    "import pandas as pd"
   ]
  },
  {
   "cell_type": "code",
   "execution_count": 4,
   "metadata": {},
   "outputs": [
    {
     "data": {
      "text/plain": [
       "{'e20214': 100.0,\n",
       " 'e20217': 99.78,\n",
       " 'e20212': 94.29,\n",
       " 'e20216': 93.63,\n",
       " 'e20211': 87.91,\n",
       " 'e20219': 83.78,\n",
       " 'e20215': 78.36,\n",
       " 'e20218': 62.37,\n",
       " 'e202110': 59.0,\n",
       " 'e20213': 50.68}"
      ]
     },
     "execution_count": 4,
     "metadata": {},
     "output_type": "execute_result"
    }
   ],
   "source": [
    "students_rank = dict(sorted(student_scores.items(), key=lambda x: x[1], reverse=True))\n",
    "students_rank"
   ]
  },
  {
   "cell_type": "code",
   "execution_count": 5,
   "metadata": {},
   "outputs": [
    {
     "data": {
      "text/plain": [
       "{'e20214': 'A',\n",
       " 'e20217': 'A',\n",
       " 'e20212': 'A',\n",
       " 'e20216': 'A',\n",
       " 'e20211': 'B',\n",
       " 'e20219': 'B',\n",
       " 'e20215': 'C',\n",
       " 'e20218': 'D',\n",
       " 'e202110': 'F',\n",
       " 'e20213': 'F'}"
      ]
     },
     "execution_count": 5,
     "metadata": {},
     "output_type": "execute_result"
    }
   ],
   "source": [
    "students_grade = {}\n",
    "for key, value in students_rank.items():\n",
    "    students_grade[key] = sortGrade(value)\n",
    "\n",
    "students_grade\n"
   ]
  },
  {
   "cell_type": "code",
   "execution_count": 6,
   "metadata": {},
   "outputs": [
    {
     "data": {
      "text/plain": [
       "{'e20214': 1,\n",
       " 'e20217': 2,\n",
       " 'e20212': 3,\n",
       " 'e20216': 4,\n",
       " 'e20211': 5,\n",
       " 'e20219': 6,\n",
       " 'e20215': 7,\n",
       " 'e20218': 8,\n",
       " 'e202110': 9,\n",
       " 'e20213': 10}"
      ]
     },
     "execution_count": 6,
     "metadata": {},
     "output_type": "execute_result"
    }
   ],
   "source": [
    "i = 1\n",
    "for key, value in students_rank.items():\n",
    "    students_rank[key] = i\n",
    "    i += 1\n",
    "\n",
    "students_rank"
   ]
  },
  {
   "cell_type": "code",
   "execution_count": 7,
   "metadata": {},
   "outputs": [
    {
     "data": {
      "text/html": [
       "<div>\n",
       "<style scoped>\n",
       "    .dataframe tbody tr th:only-of-type {\n",
       "        vertical-align: middle;\n",
       "    }\n",
       "\n",
       "    .dataframe tbody tr th {\n",
       "        vertical-align: top;\n",
       "    }\n",
       "\n",
       "    .dataframe thead th {\n",
       "        text-align: right;\n",
       "    }\n",
       "</style>\n",
       "<table border=\"1\" class=\"dataframe\">\n",
       "  <thead>\n",
       "    <tr style=\"text-align: right;\">\n",
       "      <th></th>\n",
       "      <th>Student ID</th>\n",
       "      <th>Rank</th>\n",
       "      <th>Grade</th>\n",
       "      <th>Score</th>\n",
       "    </tr>\n",
       "  </thead>\n",
       "  <tbody>\n",
       "    <tr>\n",
       "      <th>0</th>\n",
       "      <td>e20214</td>\n",
       "      <td>1</td>\n",
       "      <td>A</td>\n",
       "      <td>100.00</td>\n",
       "    </tr>\n",
       "    <tr>\n",
       "      <th>1</th>\n",
       "      <td>e20217</td>\n",
       "      <td>2</td>\n",
       "      <td>A</td>\n",
       "      <td>99.78</td>\n",
       "    </tr>\n",
       "    <tr>\n",
       "      <th>2</th>\n",
       "      <td>e20212</td>\n",
       "      <td>3</td>\n",
       "      <td>A</td>\n",
       "      <td>94.29</td>\n",
       "    </tr>\n",
       "    <tr>\n",
       "      <th>3</th>\n",
       "      <td>e20216</td>\n",
       "      <td>4</td>\n",
       "      <td>A</td>\n",
       "      <td>93.63</td>\n",
       "    </tr>\n",
       "    <tr>\n",
       "      <th>4</th>\n",
       "      <td>e20211</td>\n",
       "      <td>5</td>\n",
       "      <td>B</td>\n",
       "      <td>87.91</td>\n",
       "    </tr>\n",
       "  </tbody>\n",
       "</table>\n",
       "</div>"
      ],
      "text/plain": [
       "  Student ID  Rank Grade   Score\n",
       "0     e20214     1     A  100.00\n",
       "1     e20217     2     A   99.78\n",
       "2     e20212     3     A   94.29\n",
       "3     e20216     4     A   93.63\n",
       "4     e20211     5     B   87.91"
      ]
     },
     "execution_count": 7,
     "metadata": {},
     "output_type": "execute_result"
    }
   ],
   "source": [
    "df = pd.DataFrame()\n",
    "\n",
    "df = pd.DataFrame(list(students_rank.items()), columns=['Student ID', 'Rank'])\n",
    "df['Grade'] = df['Student ID'].map(students_grade)\n",
    "df['Score'] = df['Student ID'].map(student_scores)\n",
    "df.head()"
   ]
  },
  {
   "cell_type": "code",
   "execution_count": 8,
   "metadata": {},
   "outputs": [
    {
     "data": {
      "text/html": [
       "<div>\n",
       "<style scoped>\n",
       "    .dataframe tbody tr th:only-of-type {\n",
       "        vertical-align: middle;\n",
       "    }\n",
       "\n",
       "    .dataframe tbody tr th {\n",
       "        vertical-align: top;\n",
       "    }\n",
       "\n",
       "    .dataframe thead th {\n",
       "        text-align: right;\n",
       "    }\n",
       "</style>\n",
       "<table border=\"1\" class=\"dataframe\">\n",
       "  <thead>\n",
       "    <tr style=\"text-align: right;\">\n",
       "      <th></th>\n",
       "      <th>Rank</th>\n",
       "      <th>Grade</th>\n",
       "      <th>Score</th>\n",
       "      <th>Student ID</th>\n",
       "    </tr>\n",
       "  </thead>\n",
       "  <tbody>\n",
       "    <tr>\n",
       "      <th>0</th>\n",
       "      <td>1</td>\n",
       "      <td>A</td>\n",
       "      <td>100.00</td>\n",
       "      <td>e20214</td>\n",
       "    </tr>\n",
       "    <tr>\n",
       "      <th>1</th>\n",
       "      <td>2</td>\n",
       "      <td>A</td>\n",
       "      <td>99.78</td>\n",
       "      <td>e20217</td>\n",
       "    </tr>\n",
       "    <tr>\n",
       "      <th>2</th>\n",
       "      <td>3</td>\n",
       "      <td>A</td>\n",
       "      <td>94.29</td>\n",
       "      <td>e20212</td>\n",
       "    </tr>\n",
       "    <tr>\n",
       "      <th>3</th>\n",
       "      <td>4</td>\n",
       "      <td>A</td>\n",
       "      <td>93.63</td>\n",
       "      <td>e20216</td>\n",
       "    </tr>\n",
       "    <tr>\n",
       "      <th>4</th>\n",
       "      <td>5</td>\n",
       "      <td>B</td>\n",
       "      <td>87.91</td>\n",
       "      <td>e20211</td>\n",
       "    </tr>\n",
       "  </tbody>\n",
       "</table>\n",
       "</div>"
      ],
      "text/plain": [
       "   Rank Grade   Score Student ID\n",
       "0     1     A  100.00     e20214\n",
       "1     2     A   99.78     e20217\n",
       "2     3     A   94.29     e20212\n",
       "3     4     A   93.63     e20216\n",
       "4     5     B   87.91     e20211"
      ]
     },
     "execution_count": 8,
     "metadata": {},
     "output_type": "execute_result"
    }
   ],
   "source": [
    "cols = list(df.columns)\n",
    "cols.remove('Student ID')\n",
    "cols.append('Student ID')\n",
    "df = df[cols]\n",
    "df.head()"
   ]
  },
  {
   "cell_type": "code",
   "execution_count": 9,
   "metadata": {},
   "outputs": [
    {
     "data": {
      "text/html": [
       "<div>\n",
       "<style scoped>\n",
       "    .dataframe tbody tr th:only-of-type {\n",
       "        vertical-align: middle;\n",
       "    }\n",
       "\n",
       "    .dataframe tbody tr th {\n",
       "        vertical-align: top;\n",
       "    }\n",
       "\n",
       "    .dataframe thead th {\n",
       "        text-align: right;\n",
       "    }\n",
       "</style>\n",
       "<table border=\"1\" class=\"dataframe\">\n",
       "  <thead>\n",
       "    <tr style=\"text-align: right;\">\n",
       "      <th></th>\n",
       "      <th>0</th>\n",
       "      <th>1</th>\n",
       "      <th>2</th>\n",
       "      <th>3</th>\n",
       "      <th>4</th>\n",
       "      <th>5</th>\n",
       "      <th>6</th>\n",
       "      <th>7</th>\n",
       "      <th>8</th>\n",
       "      <th>9</th>\n",
       "    </tr>\n",
       "  </thead>\n",
       "  <tbody>\n",
       "    <tr>\n",
       "      <th>Rank</th>\n",
       "      <td>1</td>\n",
       "      <td>2</td>\n",
       "      <td>3</td>\n",
       "      <td>4</td>\n",
       "      <td>5</td>\n",
       "      <td>6</td>\n",
       "      <td>7</td>\n",
       "      <td>8</td>\n",
       "      <td>9</td>\n",
       "      <td>10</td>\n",
       "    </tr>\n",
       "    <tr>\n",
       "      <th>Grade</th>\n",
       "      <td>A</td>\n",
       "      <td>A</td>\n",
       "      <td>A</td>\n",
       "      <td>A</td>\n",
       "      <td>B</td>\n",
       "      <td>B</td>\n",
       "      <td>C</td>\n",
       "      <td>D</td>\n",
       "      <td>F</td>\n",
       "      <td>F</td>\n",
       "    </tr>\n",
       "    <tr>\n",
       "      <th>Score</th>\n",
       "      <td>100.0</td>\n",
       "      <td>99.78</td>\n",
       "      <td>94.29</td>\n",
       "      <td>93.63</td>\n",
       "      <td>87.91</td>\n",
       "      <td>83.78</td>\n",
       "      <td>78.36</td>\n",
       "      <td>62.37</td>\n",
       "      <td>59.0</td>\n",
       "      <td>50.68</td>\n",
       "    </tr>\n",
       "    <tr>\n",
       "      <th>Student ID</th>\n",
       "      <td>e20214</td>\n",
       "      <td>e20217</td>\n",
       "      <td>e20212</td>\n",
       "      <td>e20216</td>\n",
       "      <td>e20211</td>\n",
       "      <td>e20219</td>\n",
       "      <td>e20215</td>\n",
       "      <td>e20218</td>\n",
       "      <td>e202110</td>\n",
       "      <td>e20213</td>\n",
       "    </tr>\n",
       "  </tbody>\n",
       "</table>\n",
       "</div>"
      ],
      "text/plain": [
       "                 0       1       2       3       4       5       6       7  \\\n",
       "Rank             1       2       3       4       5       6       7       8   \n",
       "Grade            A       A       A       A       B       B       C       D   \n",
       "Score        100.0   99.78   94.29   93.63   87.91   83.78   78.36   62.37   \n",
       "Student ID  e20214  e20217  e20212  e20216  e20211  e20219  e20215  e20218   \n",
       "\n",
       "                  8       9  \n",
       "Rank              9      10  \n",
       "Grade             F       F  \n",
       "Score          59.0   50.68  \n",
       "Student ID  e202110  e20213  "
      ]
     },
     "execution_count": 9,
     "metadata": {},
     "output_type": "execute_result"
    }
   ],
   "source": [
    "df.transpose()"
   ]
  },
  {
   "cell_type": "code",
   "execution_count": 10,
   "metadata": {},
   "outputs": [
    {
     "data": {
      "text/plain": [
       "['Rank', 1, 2, 3, 4, 5, 6, 7, 8, 9, 10]"
      ]
     },
     "execution_count": 10,
     "metadata": {},
     "output_type": "execute_result"
    }
   ],
   "source": [
    "displayrank = [\"Rank\"]\n",
    "for i in df['Rank']:\n",
    "    displayrank.append(i)\n",
    "\n",
    "displayrank\n"
   ]
  },
  {
   "cell_type": "code",
   "execution_count": 11,
   "metadata": {},
   "outputs": [
    {
     "data": {
      "text/plain": [
       "['Grade', 'A', 'A', 'A', 'A', 'B', 'B', 'C', 'D', 'F', 'F']"
      ]
     },
     "execution_count": 11,
     "metadata": {},
     "output_type": "execute_result"
    }
   ],
   "source": [
    "displaygrade = [\"Grade\"]\n",
    "for i in df['Grade']:\n",
    "    displaygrade.append(i)\n",
    "\n",
    "displaygrade"
   ]
  },
  {
   "cell_type": "code",
   "execution_count": 12,
   "metadata": {},
   "outputs": [
    {
     "data": {
      "text/plain": [
       "['Score', 100.0, 99.78, 94.29, 93.63, 87.91, 83.78, 78.36, 62.37, 59.0, 50.68]"
      ]
     },
     "execution_count": 12,
     "metadata": {},
     "output_type": "execute_result"
    }
   ],
   "source": [
    "displayScore = [\"Score\"]\n",
    "for i in df['Score']:\n",
    "    displayScore.append(i)\n",
    "\n",
    "displayScore"
   ]
  },
  {
   "cell_type": "code",
   "execution_count": 13,
   "metadata": {},
   "outputs": [
    {
     "data": {
      "text/plain": [
       "['Student ID',\n",
       " 'e20214',\n",
       " 'e20217',\n",
       " 'e20212',\n",
       " 'e20216',\n",
       " 'e20211',\n",
       " 'e20219',\n",
       " 'e20215',\n",
       " 'e20218',\n",
       " 'e202110',\n",
       " 'e20213']"
      ]
     },
     "execution_count": 13,
     "metadata": {},
     "output_type": "execute_result"
    }
   ],
   "source": [
    "displayID = [\"Student ID\"]\n",
    "for i in df['Student ID']:\n",
    "    displayID.append(i)\n",
    "\n",
    "displayID"
   ]
  },
  {
   "cell_type": "code",
   "execution_count": 14,
   "metadata": {},
   "outputs": [
    {
     "data": {
      "text/plain": [
       "[['Rank', 1, 2, 3, 4, 5, 6, 7, 8, 9, 10],\n",
       " ['Grade', 'A', 'A', 'A', 'A', 'B', 'B', 'C', 'D', 'F', 'F'],\n",
       " ['Score',\n",
       "  100.0,\n",
       "  99.78,\n",
       "  94.29,\n",
       "  93.63,\n",
       "  87.91,\n",
       "  83.78,\n",
       "  78.36,\n",
       "  62.37,\n",
       "  59.0,\n",
       "  50.68],\n",
       " ['Student ID',\n",
       "  'e20214',\n",
       "  'e20217',\n",
       "  'e20212',\n",
       "  'e20216',\n",
       "  'e20211',\n",
       "  'e20219',\n",
       "  'e20215',\n",
       "  'e20218',\n",
       "  'e202110',\n",
       "  'e20213']]"
      ]
     },
     "execution_count": 14,
     "metadata": {},
     "output_type": "execute_result"
    }
   ],
   "source": [
    "display = [displayrank, displaygrade, displayScore, displayID]\n",
    "display"
   ]
  },
  {
   "cell_type": "code",
   "execution_count": 15,
   "metadata": {},
   "outputs": [
    {
     "name": "stdout",
     "output_type": "stream",
     "text": [
      "╒════════════╤════════╤════════╤════════╤════════╤════════╤════════╤════════╤════════╤═════════╤════════╕\n",
      "│ Rank       │ 1      │ 2      │ 3      │ 4      │ 5      │ 6      │ 7      │ 8      │ 9       │ 10     │\n",
      "├────────────┼────────┼────────┼────────┼────────┼────────┼────────┼────────┼────────┼─────────┼────────┤\n",
      "│ Grade      │ A      │ A      │ A      │ A      │ B      │ B      │ C      │ D      │ F       │ F      │\n",
      "├────────────┼────────┼────────┼────────┼────────┼────────┼────────┼────────┼────────┼─────────┼────────┤\n",
      "│ Score      │ 100.0  │ 99.78  │ 94.29  │ 93.63  │ 87.91  │ 83.78  │ 78.36  │ 62.37  │ 59.0    │ 50.68  │\n",
      "├────────────┼────────┼────────┼────────┼────────┼────────┼────────┼────────┼────────┼─────────┼────────┤\n",
      "│ Student ID │ e20214 │ e20217 │ e20212 │ e20216 │ e20211 │ e20219 │ e20215 │ e20218 │ e202110 │ e20213 │\n",
      "╘════════════╧════════╧════════╧════════╧════════╧════════╧════════╧════════╧════════╧═════════╧════════╛\n"
     ]
    }
   ],
   "source": [
    "print(tabulate.tabulate(display, tablefmt=\"fancy_grid\"))"
   ]
  },
  {
   "cell_type": "code",
   "execution_count": 16,
   "metadata": {},
   "outputs": [
    {
     "name": "stdout",
     "output_type": "stream",
     "text": [
      "Rank\t1\t2\t3\t4\t5\t6\t7\t8\t9\t10\t\n",
      "Grade\tA\tA\tA\tA\tB\tB\tC\tD\tF\tF\t\n",
      "Score\t100.0\t99.78\t94.29\t93.63\t87.91\t83.78\t78.36\t62.37\t59.0\t50.68\t\n",
      "Student ID\te20214\te20217\te20212\te20216\te20211\te20219\te20215\te20218\te202110\te20213\t"
     ]
    }
   ],
   "source": [
    "for rank in displayrank:\n",
    "    print(rank, end=\"\\t\")\n",
    "print()\n",
    "for grade in displaygrade:\n",
    "    print(grade, end=\"\\t\")\n",
    "print()\n",
    "for score in displayScore:\n",
    "    print(score, end=\"\\t\")\n",
    "print()\n",
    "for ID in displayID:\n",
    "    print(ID, end=\"\\t\")"
   ]
  },
  {
   "cell_type": "markdown",
   "metadata": {},
   "source": [
    "# Exercise 2\n",
    "\n",
    "## Part 1\n",
    "\n",
    "Write a Python program that calculates BMI (Body Mass Index) based on user input for weight in kilograms and height in meters.\n",
    "\n",
    "`The BMI Formula is: BMI = weight(kg) / (height(m) * height(m))`\n",
    "\n",
    "Classify the BMI according to the following categories:\n",
    "- Underweight: BMI less than 18.5\n",
    "- Normal weight: BMI between 18.5 and 24.9\n",
    "- Overweight: BMI between 25 and 29.9\n",
    "- Obesity: BMI 30 or more"
   ]
  },
  {
   "cell_type": "code",
   "execution_count": 17,
   "metadata": {},
   "outputs": [],
   "source": [
    "def BMI(weight: float, height: float) -> str:\n",
    "    \"\"\"\n",
    "    TODO:\n",
    "    Given a person's weight in kilograms and height in meters, return the BMI category that the person falls under.\n",
    "\n",
    "    The BMI is calculated using the following formula:\n",
    "    `BMI = weight / height^2`\n",
    "\n",
    "    Parameters:\n",
    "    weight (float): The person's weight in kilograms.\n",
    "    height (float): The person's height in meters.\n",
    "\n",
    "    Returns:\n",
    "    str: The BMI category that the person falls under.\n",
    "    \"\"\"\n",
    "\n",
    "    bmi = weight / (height ** 2)\n",
    "    if bmi < 18.5:\n",
    "        bmi_category = 'Underweight'\n",
    "    elif bmi < 25:\n",
    "        bmi_category = 'Normal weight'\n",
    "    elif bmi < 30:\n",
    "        bmi_category = 'Overweight'\n",
    "    elif bmi >=30:\n",
    "        bmi_category = 'Obese'\n",
    "    else:\n",
    "        bmi_category = 'Invalid BMI'\n",
    "    \n",
    "    return bmi, bmi_category"
   ]
  },
  {
   "cell_type": "markdown",
   "metadata": {},
   "source": [
    "## Part 2"
   ]
  },
  {
   "cell_type": "markdown",
   "metadata": {},
   "source": [
    "In this case study, we will be working with many datasets that contains information about individual’s height, weight, and gender.\n",
    "\n",
    "\n",
    "| No | Gender | Height(m) | Weight(kg) | BMI | Category |\n",
    "| --- | --- | --- | --- | --- | --- |\n",
    "| 1 | female | 1.65 | 50.3 |  |  |\n",
    "| 2 | female | 1.50 | 49.8 |  |  |\n",
    "| 3 | female | 1.58 | 73.2 |  |  |\n",
    "| 4 | male | 1.62 | 68.4 |  |  |\n",
    "| 5 | male | 1.76 | 73.5 |  |  |\n",
    "| 6 | male | 1.82 | 80.7 |  |  |\n",
    "| 7 | female | 1.67 | 76.8 |  |  |\n",
    "| 8 | female | 1.76 | 89.3 |  |  |\n",
    "| 9 | male | 1.92 | 92.7 |  |  |\n",
    "| 10 | male | 1.81 | 102.8 |  |  |\n",
    "\n"
   ]
  },
  {
   "cell_type": "markdown",
   "metadata": {},
   "source": [
    "a) Store the columns “Gender”, “Height”, “Weight” in list, tuple, or dictionary.\n",
    "\n",
    "b) Complete and display information above by order male to female.\n",
    "\n",
    "c) Clustering categories to display information as example below:\n",
    "\n",
    "| Category     | Female | Male |\n",
    "|--------------|--------|------|\n",
    "| Underweight  | 2      | 3    |\n",
    "| Normal weight| 3      | 2    |\n"
   ]
  },
  {
   "cell_type": "code",
   "execution_count": 18,
   "metadata": {},
   "outputs": [
    {
     "name": "stdout",
     "output_type": "stream",
     "text": [
      "╒══════════╤══════════╤══════════╕\n",
      "│ Gender   │   Height │   Weight │\n",
      "╞══════════╪══════════╪══════════╡\n",
      "│ male     │     1.81 │    102.8 │\n",
      "├──────────┼──────────┼──────────┤\n",
      "│ male     │     1.92 │     92.7 │\n",
      "├──────────┼──────────┼──────────┤\n",
      "│ male     │     1.82 │     80.7 │\n",
      "├──────────┼──────────┼──────────┤\n",
      "│ male     │     1.76 │     73.5 │\n",
      "├──────────┼──────────┼──────────┤\n",
      "│ male     │     1.62 │     68.4 │\n",
      "├──────────┼──────────┼──────────┤\n",
      "│ female   │     1.76 │     89.3 │\n",
      "├──────────┼──────────┼──────────┤\n",
      "│ female   │     1.67 │     76.8 │\n",
      "├──────────┼──────────┼──────────┤\n",
      "│ female   │     1.58 │     73.2 │\n",
      "├──────────┼──────────┼──────────┤\n",
      "│ female   │     1.5  │     49.8 │\n",
      "├──────────┼──────────┼──────────┤\n",
      "│ female   │     1.65 │     50.3 │\n",
      "╘══════════╧══════════╧══════════╛\n"
     ]
    }
   ],
   "source": [
    "data = [\n",
    "    [\"female\", 1.65, 50.3],\n",
    "    [\"female\", 1.50, 49.8],\n",
    "    [\"female\", 1.58, 73.2],\n",
    "    [\"male\", 1.62, 68.4],\n",
    "    [\"male\", 1.76, 73.5],\n",
    "    [\"male\", 1.82, 80.7],\n",
    "    [\"female\", 1.67, 76.8],\n",
    "    [\"female\", 1.76, 89.3],\n",
    "    [\"male\", 1.92, 92.7],\n",
    "    [\"male\", 1.81, 102.8],\n",
    "]\n",
    "\n",
    "data.sort(key=lambda x: x[0])\n",
    "data.reverse()\n",
    "print(tabulate.tabulate(data, headers=['Gender', 'Height', 'Weight'], tablefmt=\"fancy_grid\"))"
   ]
  },
  {
   "cell_type": "code",
   "execution_count": 19,
   "metadata": {},
   "outputs": [
    {
     "name": "stdout",
     "output_type": "stream",
     "text": [
      "╒══════════╤══════════╤══════════╤═════════╤═══════════════╕\n",
      "│ Gender   │   Height │   Weight │     BMI │ Category      │\n",
      "╞══════════╪══════════╪══════════╪═════════╪═══════════════╡\n",
      "│ male     │     1.81 │    102.8 │ 31.3788 │ Obese         │\n",
      "├──────────┼──────────┼──────────┼─────────┼───────────────┤\n",
      "│ male     │     1.92 │     92.7 │ 25.1465 │ Overweight    │\n",
      "├──────────┼──────────┼──────────┼─────────┼───────────────┤\n",
      "│ male     │     1.82 │     80.7 │ 24.363  │ Normal weight │\n",
      "├──────────┼──────────┼──────────┼─────────┼───────────────┤\n",
      "│ male     │     1.76 │     73.5 │ 23.728  │ Normal weight │\n",
      "├──────────┼──────────┼──────────┼─────────┼───────────────┤\n",
      "│ male     │     1.62 │     68.4 │ 26.0631 │ Overweight    │\n",
      "├──────────┼──────────┼──────────┼─────────┼───────────────┤\n",
      "│ female   │     1.76 │     89.3 │ 28.8288 │ Overweight    │\n",
      "├──────────┼──────────┼──────────┼─────────┼───────────────┤\n",
      "│ female   │     1.67 │     76.8 │ 27.5377 │ Overweight    │\n",
      "├──────────┼──────────┼──────────┼─────────┼───────────────┤\n",
      "│ female   │     1.58 │     73.2 │ 29.3222 │ Overweight    │\n",
      "├──────────┼──────────┼──────────┼─────────┼───────────────┤\n",
      "│ female   │     1.5  │     49.8 │ 22.1333 │ Normal weight │\n",
      "├──────────┼──────────┼──────────┼─────────┼───────────────┤\n",
      "│ female   │     1.65 │     50.3 │ 18.4757 │ Underweight   │\n",
      "╘══════════╧══════════╧══════════╧═════════╧═══════════════╛\n"
     ]
    }
   ],
   "source": [
    "for i in data:\n",
    "    i.extend(BMI(i[2], i[1]))\n",
    "\n",
    "print(tabulate.tabulate(data, headers=['Gender', 'Height', 'Weight', 'BMI', 'Category'], tablefmt=\"fancy_grid\"))"
   ]
  },
  {
   "cell_type": "code",
   "execution_count": 20,
   "metadata": {},
   "outputs": [
    {
     "data": {
      "text/plain": [
       "[['male', 'Obese'],\n",
       " ['male', 'Overweight'],\n",
       " ['male', 'Normal weight'],\n",
       " ['male', 'Normal weight'],\n",
       " ['male', 'Overweight'],\n",
       " ['female', 'Overweight'],\n",
       " ['female', 'Overweight'],\n",
       " ['female', 'Overweight'],\n",
       " ['female', 'Normal weight'],\n",
       " ['female', 'Underweight']]"
      ]
     },
     "execution_count": 20,
     "metadata": {},
     "output_type": "execute_result"
    }
   ],
   "source": [
    "for_count_data = []\n",
    "\n",
    "count1 = 0\n",
    "for i in data:\n",
    "    for_count_data.append([i[0]])\n",
    "    for_count_data[count1].append(i[4])\n",
    "    count1 += 1\n",
    "\n",
    "for_count_data"
   ]
  },
  {
   "cell_type": "code",
   "execution_count": 21,
   "metadata": {},
   "outputs": [
    {
     "data": {
      "text/plain": [
       "[['Category', 'Female', 'Male'],\n",
       " ['Obese', 0, 1],\n",
       " ['Overweight', 3, 2],\n",
       " ['Normal weight', 1, 2],\n",
       " ['Underweight', 1, 0]]"
      ]
     },
     "execution_count": 21,
     "metadata": {},
     "output_type": "execute_result"
    }
   ],
   "source": [
    "count_by_gender = [['Category', 'Female', 'Male']]\n",
    "cat_items = []\n",
    "\n",
    "for i in for_count_data:\n",
    "    if i[1] not in cat_items:\n",
    "        cat_items.append(i[1])\n",
    "        if i[0] == 'female':\n",
    "            count_by_gender.append([i[1], 1, 0])\n",
    "        else:\n",
    "            count_by_gender.append([i[1], 0, 1])\n",
    "    else:\n",
    "        if i[0] == 'female':\n",
    "            count_by_gender[cat_items.index(i[1]) + 1][1] += 1\n",
    "        else:\n",
    "            count_by_gender[cat_items.index(i[1]) + 1][2] += 1\n",
    "\n",
    "count_by_gender"
   ]
  },
  {
   "cell_type": "code",
   "execution_count": 22,
   "metadata": {},
   "outputs": [
    {
     "name": "stdout",
     "output_type": "stream",
     "text": [
      "╒═══════════════╤══════════╤════════╕\n",
      "│ Category      │   Female │   Male │\n",
      "╞═══════════════╪══════════╪════════╡\n",
      "│ Obese         │        0 │      1 │\n",
      "├───────────────┼──────────┼────────┤\n",
      "│ Overweight    │        3 │      2 │\n",
      "├───────────────┼──────────┼────────┤\n",
      "│ Normal weight │        1 │      2 │\n",
      "├───────────────┼──────────┼────────┤\n",
      "│ Underweight   │        1 │      0 │\n",
      "╘═══════════════╧══════════╧════════╛\n"
     ]
    }
   ],
   "source": [
    "print(tabulate.tabulate(count_by_gender, tablefmt=\"fancy_grid\", headers=\"firstrow\"))"
   ]
  },
  {
   "cell_type": "markdown",
   "metadata": {},
   "source": [
    "# Exercise 3\n",
    "## Part 1\n",
    "Write a python method to checks if a given number, is a prime number."
   ]
  },
  {
   "cell_type": "code",
   "execution_count": 27,
   "metadata": {},
   "outputs": [],
   "source": [
    "from math import sqrt\n",
    "\n",
    "def isPrime(n: int) -> bool:\n",
    "    \"\"\"\n",
    "    TODO:\n",
    "    Given a positive integer, return whether the number is prime or not.\n",
    "\n",
    "    Parameters:\n",
    "    n (int): The number to be checked.\n",
    "\n",
    "    Returns:\n",
    "    bool: True if the number is prime, False otherwise.\n",
    "    \"\"\"\n",
    "\n",
    "    if n <= 1:\n",
    "        return False\n",
    "    for i in range(2, n):\n",
    "        if n % i == 0:\n",
    "            return False\n",
    "    return True\n",
    "\n",
    "def printPrimes(n: int) -> None:\n",
    "    if isPrime(n):\n",
    "        print('The number is prime')\n",
    "    else:\n",
    "        print('The number is not prime')"
   ]
  },
  {
   "cell_type": "code",
   "execution_count": 28,
   "metadata": {},
   "outputs": [
    {
     "name": "stdout",
     "output_type": "stream",
     "text": [
      "Please input a number to check if it is prime or not\n",
      "you input 11.\n",
      "The number is prime\n"
     ]
    }
   ],
   "source": [
    "print('Please input a number to check if it is prime or not')\n",
    "number = int(input())\n",
    "print(f'you input {number}.')\n",
    "printPrimes(number)"
   ]
  },
  {
   "cell_type": "markdown",
   "metadata": {},
   "source": [
    "## Part 2\n",
    "Let $F(n)$ be the Fermat Number given by $F(n) = 2^{2^n} + 1$. Are there any $F(n)$ is not is a prime number for $n = [0, 50]$?"
   ]
  },
  {
   "cell_type": "code",
   "execution_count": 29,
   "metadata": {},
   "outputs": [],
   "source": [
    "def fermet_numbers(n: int) -> float:\n",
    "    return 2 ** (2 ** n) + 1"
   ]
  },
  {
   "cell_type": "code",
   "execution_count": 30,
   "metadata": {},
   "outputs": [
    {
     "data": {
      "text/plain": [
       "[3, 5, 17]"
      ]
     },
     "execution_count": 30,
     "metadata": {},
     "output_type": "execute_result"
    }
   ],
   "source": [
    "FermetPrime = []\n",
    "for i in range(0, 51):\n",
    "    num = fermet_numbers(i)\n",
    "    if num > 50:\n",
    "        break\n",
    "    if isPrime(num):\n",
    "        FermetPrime.append(num)\n",
    "\n",
    "FermetPrime"
   ]
  }
 ],
 "metadata": {
  "kernelspec": {
   "display_name": "Python 3",
   "language": "python",
   "name": "python3"
  },
  "language_info": {
   "codemirror_mode": {
    "name": "ipython",
    "version": 3
   },
   "file_extension": ".py",
   "mimetype": "text/x-python",
   "name": "python",
   "nbconvert_exporter": "python",
   "pygments_lexer": "ipython3",
   "version": "3.11.5"
  }
 },
 "nbformat": 4,
 "nbformat_minor": 2
}
