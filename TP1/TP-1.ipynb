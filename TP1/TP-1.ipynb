{
 "cells": [
  {
   "cell_type": "markdown",
   "metadata": {},
   "source": [
    "# **TP 1**\n",
    "\n",
    "## **Exercice 1:** inventory management\n",
    "\n",
    "### **Introduction:**\n",
    "\n",
    "You are in charge of managing the inventory for a store, and you need to use various Python data types to create a comprehensive inventory system.\n"
   ]
  },
  {
   "cell_type": "code",
   "execution_count": 28,
   "metadata": {},
   "outputs": [],
   "source": [
    "items = [\"Laptop\", \"Printer\", \"Monitor\", \"Mouse\", \"Keyboard\"]\n",
    "quantities = (10, 5, 8, 15, 12)\n",
    "prices = {\"Laptop\": 1200, \"Printer\": 250, \"Monitor\": 350, \"Mouse\": 30, \"Keyboard\": 50}"
   ]
  },
  {
   "cell_type": "markdown",
   "metadata": {},
   "source": [
    "### **Task:**\n",
    "**1. Display the list of items:**\n",
    "- Use a loop to iterate through the list.\n",
    "- Print each item."
   ]
  },
  {
   "cell_type": "code",
   "execution_count": 29,
   "metadata": {},
   "outputs": [
    {
     "name": "stdout",
     "output_type": "stream",
     "text": [
      "1.  Laptop\n",
      "2.  Printer\n",
      "3.  Monitor\n",
      "4.  Mouse\n",
      "5.  Keyboard\n"
     ]
    }
   ],
   "source": [
    "k = 1\n",
    "for i in items: \n",
    "    print(f'{k}. ',i)\n",
    "    k+=1"
   ]
  },
  {
   "cell_type": "markdown",
   "metadata": {},
   "source": [
    "**2. Display the quantities of each item using a tuple:**\n",
    "- Use indexing to access the quantities tuple.\n",
    "- Print each quantity."
   ]
  },
  {
   "cell_type": "code",
   "execution_count": 30,
   "metadata": {},
   "outputs": [
    {
     "name": "stdout",
     "output_type": "stream",
     "text": [
      "Laptop : 10\n",
      "Printer : 5\n",
      "Monitor : 8\n",
      "Mouse : 15\n",
      "Keyboard : 12\n"
     ]
    }
   ],
   "source": [
    "for i in range(len(quantities)):\n",
    "    print(items[i],':',quantities[i])"
   ]
  },
  {
   "cell_type": "markdown",
   "metadata": {},
   "source": [
    "**3. Display the prices of each item using a dictionary:**\n",
    "- Use keys to access the prices dictionary.\n",
    "- Print each item's price."
   ]
  },
  {
   "cell_type": "code",
   "execution_count": 31,
   "metadata": {},
   "outputs": [
    {
     "name": "stdout",
     "output_type": "stream",
     "text": [
      "Laptop : 1200\n",
      "Printer : 250\n",
      "Monitor : 350\n",
      "Mouse : 30\n",
      "Keyboard : 50\n"
     ]
    }
   ],
   "source": [
    "for each in prices:\n",
    "    print(each, \":\" ,prices[each])"
   ]
  },
  {
   "cell_type": "markdown",
   "metadata": {},
   "source": [
    "**4. Check if \"Tablet\" is in the list of items:**\n",
    "- Use a conditional statement with the 'in' keyword to check if \"Tablet\" is in the list.\n",
    "- Print a message indicating whether \"Tablet\" is in the list or not."
   ]
  },
  {
   "cell_type": "code",
   "execution_count": 32,
   "metadata": {},
   "outputs": [
    {
     "name": "stdout",
     "output_type": "stream",
     "text": [
      "Tablet is not in the list\n"
     ]
    }
   ],
   "source": [
    "if 'Tablet' in items:\n",
    "    print('Tablet is in the list')\n",
    "else:\n",
    "    print('Tablet is not in the list')"
   ]
  },
  {
   "cell_type": "markdown",
   "metadata": {},
   "source": [
    "**5. Add a new item \"Tablet\" to the list:**\n",
    "- Use a list method to add the new item to the items list.\n",
    "- Print the updated list."
   ]
  },
  {
   "cell_type": "code",
   "execution_count": 33,
   "metadata": {},
   "outputs": [
    {
     "data": {
      "text/plain": [
       "['Laptop', 'Printer', 'Monitor', 'Mouse', 'Keyboard', 'Tablet']"
      ]
     },
     "execution_count": 33,
     "metadata": {},
     "output_type": "execute_result"
    }
   ],
   "source": [
    "items.append('Tablet')\n",
    "items"
   ]
  },
  {
   "cell_type": "markdown",
   "metadata": {},
   "source": [
    "**6. Update the quantity of \"Laptop\" to 12:**\n",
    "- Use indexing to access and update the value in the quantities tuple.\n",
    "- Print the updated quantities."
   ]
  },
  {
   "cell_type": "code",
   "execution_count": 34,
   "metadata": {},
   "outputs": [
    {
     "data": {
      "text/plain": [
       "(12, 5, 8, 15, 12)"
      ]
     },
     "execution_count": 34,
     "metadata": {},
     "output_type": "execute_result"
    }
   ],
   "source": [
    "quantities = list(quantities)\n",
    "quantities[0] = 12\n",
    "quantities = tuple(quantities)\n",
    "quantities"
   ]
  },
  {
   "cell_type": "markdown",
   "metadata": {},
   "source": [
    "**7. Calculate the total value of the inventory:**\n",
    "- Use a loop to iterate through the items, accessing quantities and prices.\n",
    "- Calculate the total value (quantity * price) for each item and sum them.\n",
    "- Print the total value."
   ]
  },
  {
   "cell_type": "code",
   "execution_count": 35,
   "metadata": {},
   "outputs": [
    {
     "name": "stdout",
     "output_type": "stream",
     "text": [
      "Laptop 14400\n",
      "Printer 1250\n",
      "Monitor 2800\n",
      "Mouse 450\n",
      "Keyboard 600\n",
      "Total: 19500\n"
     ]
    }
   ],
   "source": [
    "sum = 0\n",
    "for each in prices:\n",
    "    sum += prices[each] * quantities[items.index(each)]\n",
    "    print(each, prices[each] * quantities[items.index(each)])\n",
    "\n",
    "print('Total:', sum)"
   ]
  },
  {
   "cell_type": "code",
   "execution_count": 36,
   "metadata": {},
   "outputs": [],
   "source": [
    "import numpy as np"
   ]
  },
  {
   "cell_type": "code",
   "execution_count": 37,
   "metadata": {},
   "outputs": [
    {
     "name": "stdout",
     "output_type": "stream",
     "text": [
      "19500\n"
     ]
    }
   ],
   "source": [
    "total_value = np.sum([prices[item] * quantities[items.index(item)] for item in items if item in prices])\n",
    "\n",
    "print(total_value)"
   ]
  },
  {
   "cell_type": "markdown",
   "metadata": {},
   "source": [
    "**8. Create a set of unique item names:**\n",
    "- Use a set to automatically remove duplicates from the items list.\n",
    "- Print the set of unique items."
   ]
  },
  {
   "cell_type": "code",
   "execution_count": 38,
   "metadata": {},
   "outputs": [
    {
     "data": {
      "text/plain": [
       "{'Keyboard', 'Laptop', 'Monitor', 'Mouse', 'Printer', 'Tablet'}"
      ]
     },
     "execution_count": 38,
     "metadata": {},
     "output_type": "execute_result"
    }
   ],
   "source": [
    "newSet = set(items)\n",
    "newSet"
   ]
  },
  {
   "cell_type": "markdown",
   "metadata": {},
   "source": [
    "**9. Convert the prices dictionary to a list of tuples:**\n",
    "- Use the 'items()' method of the dictionary to get key-value pairs.\n",
    "- Print the list of tuples."
   ]
  },
  {
   "cell_type": "code",
   "execution_count": 39,
   "metadata": {},
   "outputs": [
    {
     "data": {
      "text/plain": [
       "(('Laptop', 1200),\n",
       " ('Printer', 250),\n",
       " ('Monitor', 350),\n",
       " ('Mouse', 30),\n",
       " ('Keyboard', 50))"
      ]
     },
     "execution_count": 39,
     "metadata": {},
     "output_type": "execute_result"
    }
   ],
   "source": [
    "newTuple = []\n",
    "\n",
    "for i in prices:\n",
    "    newTuple.append((i,prices[i]))\n",
    "\n",
    "newTuple = tuple(newTuple)\n",
    "newTuple"
   ]
  },
  {
   "cell_type": "markdown",
   "metadata": {},
   "source": [
    "or use **.items()** method."
   ]
  },
  {
   "cell_type": "code",
   "execution_count": 40,
   "metadata": {},
   "outputs": [
    {
     "data": {
      "text/plain": [
       "dict_items([('Laptop', 1200), ('Printer', 250), ('Monitor', 350), ('Mouse', 30), ('Keyboard', 50)])"
      ]
     },
     "execution_count": 40,
     "metadata": {},
     "output_type": "execute_result"
    }
   ],
   "source": [
    "newTuple1 = prices.items()\n",
    "newTuple1"
   ]
  },
  {
   "cell_type": "markdown",
   "metadata": {},
   "source": [
    "**10. Display the final inventory summary:**\n",
    "- Combine information from lists, tuples, and dictionaries to create a summary.\n",
    "- Print a summary of items, quantities, prices, and total value."
   ]
  },
  {
   "cell_type": "code",
   "execution_count": 41,
   "metadata": {},
   "outputs": [
    {
     "name": "stdout",
     "output_type": "stream",
     "text": [
      "Final Inventory Summary\n",
      "-----------------------------------------------\n",
      "Item Name\t\tQuantity\tPrice\n",
      "-----------------------------------------------\n",
      "Laptop         \t\t12             \t1200           \n",
      "Printer        \t\t5              \t250            \n",
      "Monitor        \t\t8              \t350            \n",
      "Mouse          \t\t15             \t30             \n",
      "Keyboard       \t\t12             \t50             \n",
      "-----------------------------------------------\n",
      "Total Value:\t\t\t\t 19500\n"
     ]
    }
   ],
   "source": [
    "print('Final Inventory Summary')\n",
    "print('-----------------------------------------------')\n",
    "print('Item Name\\t\\tQuantity\\tPrice')\n",
    "print('-----------------------------------------------')\n",
    "for i in range(len(quantities)):\n",
    "    print(f'{items[i]:<15}\\t\\t{quantities[i]:<15}\\t{prices[items[i]]:<15}')\n",
    "print('-----------------------------------------------')\n",
    "print('Total Value:\\t\\t\\t\\t', sum)"
   ]
  },
  {
   "cell_type": "code",
   "execution_count": 42,
   "metadata": {},
   "outputs": [
    {
     "data": {
      "text/plain": [
       "{'Laptop': (12, 1200),\n",
       " 'Printer': (5, 250),\n",
       " 'Monitor': (8, 350),\n",
       " 'Mouse': (15, 30),\n",
       " 'Keyboard': (12, 50)}"
      ]
     },
     "execution_count": 42,
     "metadata": {},
     "output_type": "execute_result"
    }
   ],
   "source": [
    "summary = {}\n",
    "for i in range(len(quantities)):\n",
    "    summary[items[i]] = (quantities[i], prices[items[i]])\n",
    "\n",
    "summary"
   ]
  },
  {
   "cell_type": "code",
   "execution_count": 43,
   "metadata": {},
   "outputs": [
    {
     "name": "stdout",
     "output_type": "stream",
     "text": [
      "Final Inventory Summary\n",
      "-----------------------------------------------\n",
      "Item Name\t\tQuantity\tPrice\n",
      "-----------------------------------------------\n",
      "Laptop         \t\t12             \t1200           \n",
      "Printer        \t\t5              \t250            \n",
      "Monitor        \t\t8              \t350            \n",
      "Mouse          \t\t15             \t30             \n",
      "Keyboard       \t\t12             \t50             \n",
      "-----------------------------------------------\n",
      "Total Value:\t\t\t\t 19500\n"
     ]
    }
   ],
   "source": [
    "print('Final Inventory Summary')\n",
    "print('-----------------------------------------------')\n",
    "print('Item Name\\t\\tQuantity\\tPrice')\n",
    "print('-----------------------------------------------')\n",
    "for i in summary:\n",
    "    print(f'{i:<15}\\t\\t{summary[i][0]:<15}\\t{summary[i][1]:<15}')\n",
    "print('-----------------------------------------------')\n",
    "print('Total Value:\\t\\t\\t\\t', sum)"
   ]
  },
  {
   "cell_type": "markdown",
   "metadata": {},
   "source": [
    "### Bonus Task:"
   ]
  },
  {
   "cell_type": "markdown",
   "metadata": {},
   "source": [
    "**11. Sort the list of items alphabetically:**\n",
    "- Use a list method to sort the elements in place.\n",
    "- Print the sorted list."
   ]
  },
  {
   "cell_type": "code",
   "execution_count": 44,
   "metadata": {},
   "outputs": [
    {
     "data": {
      "text/plain": [
       "['Keyboard', 'Laptop', 'Monitor', 'Mouse', 'Printer', 'Tablet']"
      ]
     },
     "execution_count": 44,
     "metadata": {},
     "output_type": "execute_result"
    }
   ],
   "source": [
    "items.sort()\n",
    "items"
   ]
  },
  {
   "cell_type": "markdown",
   "metadata": {},
   "source": [
    "## **Exercice 2:** Application of functions f(x) in python"
   ]
  },
  {
   "cell_type": "markdown",
   "metadata": {},
   "source": [
    "Let $f: R-{2} \\Rightarrow R$ be a function defined by $f(x) = \\frac{(x+1)^m}{(x-2)^n}$. where $m$ and $n$ in $N$ and $f(2) = 0$."
   ]
  },
  {
   "cell_type": "markdown",
   "metadata": {},
   "source": [
    "**1. Display the list of variable $x$:**\n",
    "\n",
    "&emsp;a. $x$ is between 0 to 100, where $x$ in $N$.  "
   ]
  },
  {
   "cell_type": "code",
   "execution_count": 45,
   "metadata": {},
   "outputs": [
    {
     "data": {
      "text/plain": [
       "[0,\n",
       " 1,\n",
       " 2,\n",
       " 3,\n",
       " 4,\n",
       " 5,\n",
       " 6,\n",
       " 7,\n",
       " 8,\n",
       " 9,\n",
       " 10,\n",
       " 11,\n",
       " 12,\n",
       " 13,\n",
       " 14,\n",
       " 15,\n",
       " 16,\n",
       " 17,\n",
       " 18,\n",
       " 19,\n",
       " 20,\n",
       " 21,\n",
       " 22,\n",
       " 23,\n",
       " 24,\n",
       " 25,\n",
       " 26,\n",
       " 27,\n",
       " 28,\n",
       " 29,\n",
       " 30,\n",
       " 31,\n",
       " 32,\n",
       " 33,\n",
       " 34,\n",
       " 35,\n",
       " 36,\n",
       " 37,\n",
       " 38,\n",
       " 39,\n",
       " 40,\n",
       " 41,\n",
       " 42,\n",
       " 43,\n",
       " 44,\n",
       " 45,\n",
       " 46,\n",
       " 47,\n",
       " 48,\n",
       " 49,\n",
       " 50,\n",
       " 51,\n",
       " 52,\n",
       " 53,\n",
       " 54,\n",
       " 55,\n",
       " 56,\n",
       " 57,\n",
       " 58,\n",
       " 59,\n",
       " 60,\n",
       " 61,\n",
       " 62,\n",
       " 63,\n",
       " 64,\n",
       " 65,\n",
       " 66,\n",
       " 67,\n",
       " 68,\n",
       " 69,\n",
       " 70,\n",
       " 71,\n",
       " 72,\n",
       " 73,\n",
       " 74,\n",
       " 75,\n",
       " 76,\n",
       " 77,\n",
       " 78,\n",
       " 79,\n",
       " 80,\n",
       " 81,\n",
       " 82,\n",
       " 83,\n",
       " 84,\n",
       " 85,\n",
       " 86,\n",
       " 87,\n",
       " 88,\n",
       " 89,\n",
       " 90,\n",
       " 91,\n",
       " 92,\n",
       " 93,\n",
       " 94,\n",
       " 95,\n",
       " 96,\n",
       " 97,\n",
       " 98,\n",
       " 99,\n",
       " 100]"
      ]
     },
     "execution_count": 45,
     "metadata": {},
     "output_type": "execute_result"
    }
   ],
   "source": [
    "x = [x for x in range(101)]\n",
    "x"
   ]
  },
  {
   "cell_type": "markdown",
   "metadata": {},
   "source": [
    "&emsp;b. $x$ is between 0 to 100, where $x(n) = 2n + 1$, $n = 0, 1, 2, 3, 4, ...$  "
   ]
  },
  {
   "cell_type": "code",
   "execution_count": 46,
   "metadata": {},
   "outputs": [],
   "source": [
    "def x1(x):\n",
    "    return x*2 + 1"
   ]
  },
  {
   "cell_type": "code",
   "execution_count": 47,
   "metadata": {},
   "outputs": [
    {
     "data": {
      "text/plain": [
       "[1,\n",
       " 3,\n",
       " 5,\n",
       " 7,\n",
       " 9,\n",
       " 11,\n",
       " 13,\n",
       " 15,\n",
       " 17,\n",
       " 19,\n",
       " 21,\n",
       " 23,\n",
       " 25,\n",
       " 27,\n",
       " 29,\n",
       " 31,\n",
       " 33,\n",
       " 35,\n",
       " 37,\n",
       " 39,\n",
       " 41,\n",
       " 43,\n",
       " 45,\n",
       " 47,\n",
       " 49,\n",
       " 51,\n",
       " 53,\n",
       " 55,\n",
       " 57,\n",
       " 59,\n",
       " 61,\n",
       " 63,\n",
       " 65,\n",
       " 67,\n",
       " 69,\n",
       " 71,\n",
       " 73,\n",
       " 75,\n",
       " 77,\n",
       " 79,\n",
       " 81,\n",
       " 83,\n",
       " 85,\n",
       " 87,\n",
       " 89,\n",
       " 91,\n",
       " 93,\n",
       " 95,\n",
       " 97,\n",
       " 99]"
      ]
     },
     "execution_count": 47,
     "metadata": {},
     "output_type": "execute_result"
    }
   ],
   "source": [
    "x1 = [x1(x) for x in range(101) if x1(x) <= 100]\n",
    "x1"
   ]
  },
  {
   "cell_type": "markdown",
   "metadata": {},
   "source": [
    "&emsp;c. $x$ is between $0$ to $100$, where $x(n)=2^n$, $n=0,1,2,3,4,...$"
   ]
  },
  {
   "cell_type": "code",
   "execution_count": 48,
   "metadata": {},
   "outputs": [],
   "source": [
    "def x2(x):\n",
    "    return 2**x"
   ]
  },
  {
   "cell_type": "code",
   "execution_count": 49,
   "metadata": {},
   "outputs": [
    {
     "data": {
      "text/plain": [
       "[1, 2, 4, 8, 16, 32, 64]"
      ]
     },
     "execution_count": 49,
     "metadata": {},
     "output_type": "execute_result"
    }
   ],
   "source": [
    "x2 = [x2(x) for x in range(101) if x2(x) <= 100]\n",
    "x2"
   ]
  },
  {
   "cell_type": "markdown",
   "metadata": {},
   "source": [
    "**2. Calculate the value and display list of $f(x)$ for $n =20$, $m =24$**\n",
    "\n",
    "&emsp;a. For the value of $x$ following by question (1.a)"
   ]
  },
  {
   "cell_type": "code",
   "execution_count": 50,
   "metadata": {},
   "outputs": [],
   "source": [
    "def fx1(x):\n",
    "    return (x + 1)**24 / (x - 2)**20"
   ]
  },
  {
   "cell_type": "code",
   "execution_count": 51,
   "metadata": {},
   "outputs": [
    {
     "data": {
      "text/plain": [
       "[9.5367431640625e-07,\n",
       " 16777216.0,\n",
       " 281474976710656.0,\n",
       " 56843418860.808014,\n",
       " 1358954496.0,\n",
       " 174242114.8997586,\n",
       " 49517601.57141521,\n",
       " 21817009.40605259,\n",
       " 12532542.89419685,\n",
       " 8543281.252409657,\n",
       " 6538825.02945244,\n",
       " 5428007.7037437055,\n",
       " 4777703.046642087,\n",
       " 4391018.798566293,\n",
       " 4168814.1820602478,\n",
       " 4057078.393581868,\n",
       " 4024527.8896716614,\n",
       " 4052161.7219842584,\n",
       " 4128016.916693943,\n",
       " 4244367.413562796,\n",
       " 4396148.159852162,\n",
       " 4580028.190579433,\n",
       " 4793844.101203188,\n",
       " 5036242.013434494,\n",
       " 5306444.556643383,\n",
       " 5604095.216725045,\n",
       " 5929151.927539998,\n",
       " 6281812.800225848,\n",
       " 6662463.305375667,\n",
       " 7071638.070240881,\n",
       " 7509992.818367964,\n",
       " 7978283.467404165,\n",
       " 8477350.357364075,\n",
       " 9008106.208457336,\n",
       " 9571526.825682342,\n",
       " 10168643.850891365,\n",
       " 10800539.058198301,\n",
       " 11468339.824855737,\n",
       " 12173215.50610486,\n",
       " 12916374.511506056,\n",
       " 13699061.930228276,\n",
       " 14522557.589348579,\n",
       " 15388174.45624969,\n",
       " 16297257.31637777,\n",
       " 17251181.672810037,\n",
       " 18251352.825610466,\n",
       " 19299205.09777208,\n",
       " 20396201.181342818,\n",
       " 21543831.582609106,\n",
       " 22743614.149334893,\n",
       " 23997093.66629681,\n",
       " 25305841.50792148,\n",
       " 26671455.33887257,\n",
       " 28095558.855068255,\n",
       " 29579801.55892338,\n",
       " 31125858.56367225,\n",
       " 32735430.422490243,\n",
       " 34410242.97883577,\n",
       " 36152047.2350107,\n",
       " 37962619.23641149,\n",
       " 39843759.96933519,\n",
       " 41797295.27052955,\n",
       " 43825075.74694686,\n",
       " 45928976.70438724,\n",
       " 48110898.083906665,\n",
       " 50372764.40502411,\n",
       " 52716524.71489689,\n",
       " 55144152.54274707,\n",
       " 57657645.85891818,\n",
       " 60259027.03802403,\n",
       " 62950342.82572134,\n",
       " 65733664.30869823,\n",
       " 68611086.88752204,\n",
       " 71584730.25203423,\n",
       " 74656738.35901876,\n",
       " 77829279.41190282,\n",
       " 81104545.84227803,\n",
       " 84484754.29305482,\n",
       " 87972145.60308422,\n",
       " 91568984.7931005,\n",
       " 95277561.0528545,\n",
       " 99100187.72932151,\n",
       " 103039202.31588116,\n",
       " 107096966.44237675,\n",
       " 111275865.86597231,\n",
       " 115578310.46273352,\n",
       " 120006734.21986683,\n",
       " 124563595.22855745,\n",
       " 129251375.67735328,\n",
       " 134072581.84604664,\n",
       " 139029744.10001096,\n",
       " 144125416.88495338,\n",
       " 149362178.7220481,\n",
       " 154742632.20341882,\n",
       " 160269403.98794124,\n",
       " 165945144.79733968,\n",
       " 171772529.41255394,\n",
       " 177754256.67035508,\n",
       " 183893049.46019027,\n",
       " 190191654.72123876]"
      ]
     },
     "execution_count": 51,
     "metadata": {},
     "output_type": "execute_result"
    }
   ],
   "source": [
    "x3 = []\n",
    "for i in x:\n",
    "    if i == 2:\n",
    "        continue\n",
    "    else:\n",
    "        x3.append(fx1(i))\n",
    "x3"
   ]
  },
  {
   "cell_type": "markdown",
   "metadata": {},
   "source": [
    "&emsp;b. For the value of $x$ following by question (1.b)"
   ]
  },
  {
   "cell_type": "code",
   "execution_count": 52,
   "metadata": {},
   "outputs": [
    {
     "data": {
      "text/plain": [
       "[16777216.0,\n",
       " 281474976710656.0,\n",
       " 1358954496.0,\n",
       " 49517601.57141521,\n",
       " 12532542.89419685,\n",
       " 6538825.02945244,\n",
       " 4777703.046642087,\n",
       " 4168814.1820602478,\n",
       " 4024527.8896716614,\n",
       " 4128016.916693943,\n",
       " 4396148.159852162,\n",
       " 4793844.101203188,\n",
       " 5306444.556643383,\n",
       " 5929151.927539998,\n",
       " 6662463.305375667,\n",
       " 7509992.818367964,\n",
       " 8477350.357364075,\n",
       " 9571526.825682342,\n",
       " 10800539.058198301,\n",
       " 12173215.50610486,\n",
       " 13699061.930228276,\n",
       " 15388174.45624969,\n",
       " 17251181.672810037,\n",
       " 19299205.09777208,\n",
       " 21543831.582609106,\n",
       " 23997093.66629681,\n",
       " 26671455.33887257,\n",
       " 29579801.55892338,\n",
       " 32735430.422490243,\n",
       " 36152047.2350107,\n",
       " 39843759.96933519,\n",
       " 43825075.74694686,\n",
       " 48110898.083906665,\n",
       " 52716524.71489689,\n",
       " 57657645.85891818,\n",
       " 62950342.82572134,\n",
       " 68611086.88752204,\n",
       " 74656738.35901876,\n",
       " 81104545.84227803,\n",
       " 87972145.60308422,\n",
       " 95277561.0528545,\n",
       " 103039202.31588116,\n",
       " 111275865.86597231,\n",
       " 120006734.21986683,\n",
       " 129251375.67735328,\n",
       " 139029744.10001096,\n",
       " 149362178.7220481,\n",
       " 160269403.98794124,\n",
       " 171772529.41255394,\n",
       " 183893049.46019027]"
      ]
     },
     "execution_count": 52,
     "metadata": {},
     "output_type": "execute_result"
    }
   ],
   "source": [
    "x4 = [fx1(i) for i in x1 if x3[i] != 2]\n",
    "x4"
   ]
  },
  {
   "cell_type": "markdown",
   "metadata": {},
   "source": [
    "&emsp;c. For the value of $x$ following by question (1.c)"
   ]
  },
  {
   "cell_type": "code",
   "execution_count": 53,
   "metadata": {},
   "outputs": [
    {
     "data": {
      "text/plain": [
       "[16777216.0,\n",
       " 281474976710656.0,\n",
       " 1358954496.0,\n",
       " 49517601.57141521,\n",
       " 12532542.89419685,\n",
       " 6538825.02945244,\n",
       " 4777703.046642087,\n",
       " 4168814.1820602478,\n",
       " 4024527.8896716614,\n",
       " 4128016.916693943,\n",
       " 4396148.159852162,\n",
       " 4793844.101203188,\n",
       " 5306444.556643383,\n",
       " 5929151.927539998,\n",
       " 6662463.305375667,\n",
       " 7509992.818367964,\n",
       " 8477350.357364075,\n",
       " 9571526.825682342,\n",
       " 10800539.058198301,\n",
       " 12173215.50610486,\n",
       " 13699061.930228276,\n",
       " 15388174.45624969,\n",
       " 17251181.672810037,\n",
       " 19299205.09777208,\n",
       " 21543831.582609106,\n",
       " 23997093.66629681,\n",
       " 26671455.33887257,\n",
       " 29579801.55892338,\n",
       " 32735430.422490243,\n",
       " 36152047.2350107,\n",
       " 39843759.96933519,\n",
       " 43825075.74694686,\n",
       " 48110898.083906665,\n",
       " 52716524.71489689,\n",
       " 57657645.85891818,\n",
       " 62950342.82572134,\n",
       " 68611086.88752204,\n",
       " 74656738.35901876,\n",
       " 81104545.84227803,\n",
       " 87972145.60308422,\n",
       " 95277561.0528545,\n",
       " 103039202.31588116,\n",
       " 111275865.86597231,\n",
       " 120006734.21986683,\n",
       " 129251375.67735328,\n",
       " 139029744.10001096,\n",
       " 149362178.7220481,\n",
       " 160269403.98794124,\n",
       " 171772529.41255394,\n",
       " 183893049.46019027]"
      ]
     },
     "execution_count": 53,
     "metadata": {},
     "output_type": "execute_result"
    }
   ],
   "source": [
    "x5 = [fx1(i) for i in x1 if x3[i] != 2]\n",
    "x5"
   ]
  },
  {
   "cell_type": "markdown",
   "metadata": {},
   "source": [
    "**3. Given the value of $n = 20$, $m = 24$ and $x$ in $N$. Calculated the sum of $f(x)$, where $x$ in**\n",
    "\n",
    "&emsp;a. For the value of $x$ following by question (1.a) $\\\\$\n",
    "&emsp;b. For the value of $x$ following by question (1.b) $\\\\$\n",
    "&emsp;c. For the value of $x$ following by question (1.c)"
   ]
  },
  {
   "cell_type": "code",
   "execution_count": 54,
   "metadata": {},
   "outputs": [
    {
     "data": {
      "text/plain": [
       "(281538187987712.7, 281478730694767.8, 281478730694767.8)"
      ]
     },
     "execution_count": 54,
     "metadata": {},
     "output_type": "execute_result"
    }
   ],
   "source": [
    "sum_x3 = np.sum(x3)\n",
    "sum_x4 = np.sum(x4)\n",
    "sum_x5 = np.sum(x5)\n",
    "\n",
    "sum_x3, sum_x4, sum_x5"
   ]
  }
 ],
 "metadata": {
  "kernelspec": {
   "display_name": "Python 3",
   "language": "python",
   "name": "python3"
  },
  "language_info": {
   "codemirror_mode": {
    "name": "ipython",
    "version": 3
   },
   "file_extension": ".py",
   "mimetype": "text/x-python",
   "name": "python",
   "nbconvert_exporter": "python",
   "pygments_lexer": "ipython3",
   "version": "3.11.5"
  }
 },
 "nbformat": 4,
 "nbformat_minor": 2
}
