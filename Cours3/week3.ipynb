{
 "cells": [
  {
   "cell_type": "code",
   "execution_count": 1,
   "metadata": {},
   "outputs": [],
   "source": [
    "import mymodule"
   ]
  },
  {
   "cell_type": "code",
   "execution_count": 2,
   "metadata": {},
   "outputs": [
    {
     "name": "stdout",
     "output_type": "stream",
     "text": [
      "\n",
      "    TODO:\n",
      "    ---\n",
      "    sum of 2 real number x and y\n",
      "\n",
      "    Parameter:\n",
      "    ---\n",
      "    x: `float`\n",
      "        first operand\n",
      "    y: `float`\n",
      "        second operand\n",
      "\n",
      "    Return:\n",
      "    ---\n",
      "    The sum of 2 numbers\n",
      "    \n"
     ]
    }
   ],
   "source": [
    "print(mymodule.mysum.__doc__)"
   ]
  },
  {
   "cell_type": "code",
   "execution_count": 3,
   "metadata": {},
   "outputs": [
    {
     "name": "stdout",
     "output_type": "stream",
     "text": [
      "\u001b[1;31mSignature:\u001b[0m  \u001b[0mmymodule\u001b[0m\u001b[1;33m.\u001b[0m\u001b[0mmysum\u001b[0m\u001b[1;33m(\u001b[0m\u001b[0mx\u001b[0m\u001b[1;33m:\u001b[0m \u001b[0mfloat\u001b[0m\u001b[1;33m,\u001b[0m \u001b[0my\u001b[0m\u001b[1;33m:\u001b[0m \u001b[0mfloat\u001b[0m\u001b[1;33m)\u001b[0m \u001b[1;33m->\u001b[0m \u001b[0mfloat\u001b[0m\u001b[1;33m\u001b[0m\u001b[1;33m\u001b[0m\u001b[0m\n",
      "\u001b[1;31mDocstring:\u001b[0m\n",
      "TODO:\n",
      "---\n",
      "sum of 2 real number x and y\n",
      "\n",
      "Parameter:\n",
      "---\n",
      "x: `float`\n",
      "    first operand\n",
      "y: `float`\n",
      "    second operand\n",
      "\n",
      "Return:\n",
      "---\n",
      "The sum of 2 numbers\n",
      "\u001b[1;31mFile:\u001b[0m      c:\\users\\pav limseng\\onedrive - itc.edu.kh\\document\\my file\\i3\\semestre 2\\programds\\cours3\\mymodule.py\n",
      "\u001b[1;31mType:\u001b[0m      function"
     ]
    }
   ],
   "source": [
    "? mymodule.mysum"
   ]
  },
  {
   "cell_type": "code",
   "execution_count": 4,
   "metadata": {},
   "outputs": [
    {
     "name": "stdout",
     "output_type": "stream",
     "text": [
      "Help on function mysum in module mymodule:\n",
      "\n",
      "mysum(x: float, y: float) -> float\n",
      "    TODO:\n",
      "    ---\n",
      "    sum of 2 real number x and y\n",
      "    \n",
      "    Parameter:\n",
      "    ---\n",
      "    x: `float`\n",
      "        first operand\n",
      "    y: `float`\n",
      "        second operand\n",
      "    \n",
      "    Return:\n",
      "    ---\n",
      "    The sum of 2 numbers\n",
      "\n"
     ]
    }
   ],
   "source": [
    "help(mymodule.mysum)"
   ]
  },
  {
   "cell_type": "markdown",
   "metadata": {},
   "source": [
    "## Packing and Unpacking Parameters"
   ]
  },
  {
   "cell_type": "code",
   "execution_count": 6,
   "metadata": {},
   "outputs": [
    {
     "name": "stdout",
     "output_type": "stream",
     "text": [
      "[3, 4, 5] 3 4 5\n"
     ]
    }
   ],
   "source": [
    "l =  [3,4,5]\n",
    "x,y,z = l\n",
    "\n",
    "print(l, x, y, z)"
   ]
  },
  {
   "cell_type": "code",
   "execution_count": 11,
   "metadata": {},
   "outputs": [
    {
     "name": "stdout",
     "output_type": "stream",
     "text": [
      "5\n",
      "8\n"
     ]
    }
   ],
   "source": [
    "args = [2, 3]\n",
    "\n",
    "mysum = mymodule.mysum\n",
    "\n",
    "print(mysum(*args))\n",
    "\n",
    "kwargs = {'x': 5, 'y': 3}\n",
    "\n",
    "print(mysum(**kwargs))"
   ]
  },
  {
   "cell_type": "markdown",
   "metadata": {},
   "source": [
    "## Packing Parameters"
   ]
  },
  {
   "cell_type": "code",
   "execution_count": 15,
   "metadata": {},
   "outputs": [
    {
     "data": {
      "text/plain": [
       "5"
      ]
     },
     "execution_count": 15,
     "metadata": {},
     "output_type": "execute_result"
    }
   ],
   "source": [
    "def mysum1(*args):\n",
    "    return sum(args)\n",
    "\n",
    "mysum1(2,3)"
   ]
  },
  {
   "cell_type": "code",
   "execution_count": 18,
   "metadata": {},
   "outputs": [],
   "source": [
    "def mysum2(**kwargs):\n",
    "    return sum(kwargs.values())"
   ]
  },
  {
   "cell_type": "markdown",
   "metadata": {},
   "source": [
    "mysum2(x=2, y=3, z=5)"
   ]
  },
  {
   "cell_type": "markdown",
   "metadata": {},
   "source": [
    "# Class"
   ]
  },
  {
   "cell_type": "code",
   "execution_count": 24,
   "metadata": {},
   "outputs": [
    {
     "name": "stdout",
     "output_type": "stream",
     "text": [
      "<__main__.person object at 0x0000020FA55D4850>\n",
      "Seng\n",
      "26.122448979591837\n",
      "26.122448979591837\n",
      "26.122448979591837\n"
     ]
    }
   ],
   "source": [
    "class person(object):\n",
    "    name: str = 'Seng'\n",
    "    weight: float = 80\n",
    "    height: float = 1.75\n",
    "    \n",
    "    def bmi(self):\n",
    "        return self.weight / (self.height ** 2)\n",
    "\n",
    "print(person())\n",
    "print(person().name)\n",
    "print(person().bmi())\n",
    "p = person()\n",
    "print(p.bmi())\n",
    "print(person.bmi(p))"
   ]
  }
 ],
 "metadata": {
  "kernelspec": {
   "display_name": "Python 3",
   "language": "python",
   "name": "python3"
  },
  "language_info": {
   "codemirror_mode": {
    "name": "ipython",
    "version": 3
   },
   "file_extension": ".py",
   "mimetype": "text/x-python",
   "name": "python",
   "nbconvert_exporter": "python",
   "pygments_lexer": "ipython3",
   "version": "3.11.5"
  }
 },
 "nbformat": 4,
 "nbformat_minor": 2
}
